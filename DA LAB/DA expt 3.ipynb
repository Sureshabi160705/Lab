{
 "cells": [
  {
   "cell_type": "code",
   "execution_count": 1,
   "id": "5581b6b6-64de-4202-be6f-d9d787bf5a0c",
   "metadata": {},
   "outputs": [
    {
     "data": {
      "text/html": [
       "<table class=\"dataframe\">\n",
       "<caption>A data.frame: 6 × 3</caption>\n",
       "<thead>\n",
       "\t<tr><th></th><th scope=col>Month</th><th scope=col>Spend</th><th scope=col>Sales</th></tr>\n",
       "\t<tr><th></th><th scope=col>&lt;dbl&gt;</th><th scope=col>&lt;dbl&gt;</th><th scope=col>&lt;dbl&gt;</th></tr>\n",
       "</thead>\n",
       "<tbody>\n",
       "\t<tr><th scope=row>1</th><td>1</td><td>1000</td><td> 9914</td></tr>\n",
       "\t<tr><th scope=row>2</th><td>2</td><td>4000</td><td>40487</td></tr>\n",
       "\t<tr><th scope=row>3</th><td>3</td><td>5000</td><td>54324</td></tr>\n",
       "\t<tr><th scope=row>4</th><td>4</td><td>4500</td><td>50044</td></tr>\n",
       "\t<tr><th scope=row>5</th><td>5</td><td>3000</td><td>34719</td></tr>\n",
       "\t<tr><th scope=row>6</th><td>6</td><td>4000</td><td>42551</td></tr>\n",
       "</tbody>\n",
       "</table>\n"
      ],
      "text/latex": [
       "A data.frame: 6 × 3\n",
       "\\begin{tabular}{r|lll}\n",
       "  & Month & Spend & Sales\\\\\n",
       "  & <dbl> & <dbl> & <dbl>\\\\\n",
       "\\hline\n",
       "\t1 & 1 & 1000 &  9914\\\\\n",
       "\t2 & 2 & 4000 & 40487\\\\\n",
       "\t3 & 3 & 5000 & 54324\\\\\n",
       "\t4 & 4 & 4500 & 50044\\\\\n",
       "\t5 & 5 & 3000 & 34719\\\\\n",
       "\t6 & 6 & 4000 & 42551\\\\\n",
       "\\end{tabular}\n"
      ],
      "text/markdown": [
       "\n",
       "A data.frame: 6 × 3\n",
       "\n",
       "| <!--/--> | Month &lt;dbl&gt; | Spend &lt;dbl&gt; | Sales &lt;dbl&gt; |\n",
       "|---|---|---|---|\n",
       "| 1 | 1 | 1000 |  9914 |\n",
       "| 2 | 2 | 4000 | 40487 |\n",
       "| 3 | 3 | 5000 | 54324 |\n",
       "| 4 | 4 | 4500 | 50044 |\n",
       "| 5 | 5 | 3000 | 34719 |\n",
       "| 6 | 6 | 4000 | 42551 |\n",
       "\n"
      ],
      "text/plain": [
       "  Month Spend Sales\n",
       "1 1     1000   9914\n",
       "2 2     4000  40487\n",
       "3 3     5000  54324\n",
       "4 4     4500  50044\n",
       "5 5     3000  34719\n",
       "6 6     4000  42551"
      ]
     },
     "metadata": {},
     "output_type": "display_data"
    }
   ],
   "source": [
    "dataset=read.csv(\"data-marketing-budget-12mo.csv\",header=T,\n",
    "                 colClasses=c(\"numeric\",\"numeric\",\"numeric\"))\n",
    "head(dataset)"
   ]
  },
  {
   "cell_type": "code",
   "execution_count": 2,
   "id": "680c21d4-acba-47a2-8969-89d0be3e9bea",
   "metadata": {},
   "outputs": [
    {
     "data": {
      "text/plain": [
       "\n",
       "Call:\n",
       "lm(formula = Sales ~ Spend, data = dataset)\n",
       "\n",
       "Residuals:\n",
       "   Min     1Q Median     3Q    Max \n",
       " -3385  -2097    258   1726   3034 \n",
       "\n",
       "Coefficients:\n",
       "             Estimate Std. Error t value Pr(>|t|)    \n",
       "(Intercept) 1383.4714  1255.2404   1.102    0.296    \n",
       "Spend         10.6222     0.1625  65.378 1.71e-14 ***\n",
       "---\n",
       "Signif. codes:  0 ‘***’ 0.001 ‘**’ 0.01 ‘*’ 0.05 ‘.’ 0.1 ‘ ’ 1\n",
       "\n",
       "Residual standard error: 2313 on 10 degrees of freedom\n",
       "Multiple R-squared:  0.9977,\tAdjusted R-squared:  0.9974 \n",
       "F-statistic:  4274 on 1 and 10 DF,  p-value: 1.707e-14\n"
      ]
     },
     "metadata": {},
     "output_type": "display_data"
    }
   ],
   "source": [
    "simple.fit = lm(Sales~Spend,data=dataset)\n",
    "summary(simple.fit)"
   ]
  },
  {
   "cell_type": "code",
   "execution_count": 3,
   "id": "9e2945d7-ee23-4151-b94d-ce87da11df21",
   "metadata": {},
   "outputs": [
    {
     "data": {
      "text/plain": [
       "\n",
       "Call:\n",
       "lm(formula = Sales ~ Spend + Month, data = dataset)\n",
       "\n",
       "Residuals:\n",
       "     Min       1Q   Median       3Q      Max \n",
       "-1793.73 -1558.33    -1.73  1374.19  1911.58 \n",
       "\n",
       "Coefficients:\n",
       "             Estimate Std. Error t value Pr(>|t|)    \n",
       "(Intercept) -567.6098  1041.8836  -0.545  0.59913    \n",
       "Spend         10.3825     0.1328  78.159 4.65e-14 ***\n",
       "Month        541.3736   158.1660   3.423  0.00759 ** \n",
       "---\n",
       "Signif. codes:  0 ‘***’ 0.001 ‘**’ 0.01 ‘*’ 0.05 ‘.’ 0.1 ‘ ’ 1\n",
       "\n",
       "Residual standard error: 1607 on 9 degrees of freedom\n",
       "Multiple R-squared:  0.999,\tAdjusted R-squared:  0.9988 \n",
       "F-statistic:  4433 on 2 and 9 DF,  p-value: 3.368e-14\n"
      ]
     },
     "metadata": {},
     "output_type": "display_data"
    }
   ],
   "source": [
    "multi.fit = lm(Sales~Spend+Month, data=dataset)\n",
    "summary(multi.fit)"
   ]
  },
  {
   "cell_type": "code",
   "execution_count": 4,
   "id": "716c7f62-535c-47a8-8278-4823f0497d99",
   "metadata": {},
   "outputs": [
    {
     "name": "stdout",
     "output_type": "stream",
     "text": [
      "                  am cyl  hp    wt\n",
      "Mazda RX4          1   6 110 2.620\n",
      "Mazda RX4 Wag      1   6 110 2.875\n",
      "Datsun 710         1   4  93 2.320\n",
      "Hornet 4 Drive     0   6 110 3.215\n",
      "Hornet Sportabout  0   8 175 3.440\n",
      "Valiant            0   6 105 3.460\n",
      "\n",
      "Call:\n",
      "glm(formula = am ~ cyl + hp + wt, family = binomial, data = input)\n",
      "\n",
      "Coefficients:\n",
      "            Estimate Std. Error z value Pr(>|z|)  \n",
      "(Intercept) 19.70288    8.11637   2.428   0.0152 *\n",
      "cyl          0.48760    1.07162   0.455   0.6491  \n",
      "hp           0.03259    0.01886   1.728   0.0840 .\n",
      "wt          -9.14947    4.15332  -2.203   0.0276 *\n",
      "---\n",
      "Signif. codes:  0 ‘***’ 0.001 ‘**’ 0.01 ‘*’ 0.05 ‘.’ 0.1 ‘ ’ 1\n",
      "\n",
      "(Dispersion parameter for binomial family taken to be 1)\n",
      "\n",
      "    Null deviance: 43.2297  on 31  degrees of freedom\n",
      "Residual deviance:  9.8415  on 28  degrees of freedom\n",
      "AIC: 17.841\n",
      "\n",
      "Number of Fisher Scoring iterations: 8\n",
      "\n"
     ]
    }
   ],
   "source": [
    "input<- mtcars [,c(\"am\",\"cyl\",\"hp\",\"wt\")]\n",
    "print(head(input))\n",
    "input<- mtcars [,c(\"am\",\"cyl\",\"hp\",\"wt\")]\n",
    "am.data =glm(formula = am ~ cyl+hp+wt,data = input,family = binomial)\n",
    "print(summary(am.data))"
   ]
  },
  {
   "cell_type": "code",
   "execution_count": null,
   "id": "1d443ee1-ea17-40b3-9871-14e67f04d1f8",
   "metadata": {},
   "outputs": [],
   "source": []
  },
  {
   "cell_type": "code",
   "execution_count": null,
   "id": "d417af9e-b5af-4194-a370-5bef0c042524",
   "metadata": {},
   "outputs": [],
   "source": []
  }
 ],
 "metadata": {
  "kernelspec": {
   "display_name": "R",
   "language": "R",
   "name": "ir"
  },
  "language_info": {
   "codemirror_mode": "r",
   "file_extension": ".r",
   "mimetype": "text/x-r-source",
   "name": "R",
   "pygments_lexer": "r",
   "version": "4.3.3"
  }
 },
 "nbformat": 4,
 "nbformat_minor": 5
}
