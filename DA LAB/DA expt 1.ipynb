{
 "cells": [
  {
   "cell_type": "code",
   "execution_count": 1,
   "id": "8ef54bd0-d1a0-49bf-a17e-447134bd5ab1",
   "metadata": {},
   "outputs": [
    {
     "data": {
      "text/plain": [
       "\n",
       "\tOne Sample t-test\n",
       "\n",
       "data:  x\n",
       "t = -46.665, df = 99, p-value < 2.2e-16\n",
       "alternative hypothesis: true mean is not equal to 5\n",
       "95 percent confidence interval:\n",
       " -0.3045205  0.1281855\n",
       "sample estimates:\n",
       "  mean of x \n",
       "-0.08816751 \n"
      ]
     },
     "metadata": {},
     "output_type": "display_data"
    }
   ],
   "source": [
    "x=rnorm(100)\n",
    "t.test(x,mu=5)"
   ]
  },
  {
   "cell_type": "code",
   "execution_count": 2,
   "id": "e98386ae-2599-4323-b0d9-e011d21ebe01",
   "metadata": {},
   "outputs": [
    {
     "data": {
      "text/plain": [
       "\n",
       "\tWelch Two Sample t-test\n",
       "\n",
       "data:  x1 and y1\n",
       "t = 0.45191, df = 190.98, p-value = 0.6518\n",
       "alternative hypothesis: true difference in means is not equal to 0\n",
       "95 percent confidence interval:\n",
       " -0.2179028  0.3474232\n",
       "sample estimates:\n",
       " mean of x  mean of y \n",
       "0.08684927 0.02208906 \n"
      ]
     },
     "metadata": {},
     "output_type": "display_data"
    }
   ],
   "source": [
    "x1=rnorm(100)\n",
    "y1=rnorm(100)\n",
    "t.test(x1,y1)"
   ]
  },
  {
   "cell_type": "code",
   "execution_count": 3,
   "id": "1ff97994-dce8-4281-8a16-57d18c5a4296",
   "metadata": {},
   "outputs": [
    {
     "data": {
      "text/plain": [
       "\n",
       "\tOne Sample t-test\n",
       "\n",
       "data:  x2\n",
       "t = -18.142, df = 99, p-value = 1\n",
       "alternative hypothesis: true mean is greater than 2\n",
       "95 percent confidence interval:\n",
       " -0.1220076        Inf\n",
       "sample estimates:\n",
       " mean of x \n",
       "0.05591662 \n"
      ]
     },
     "metadata": {},
     "output_type": "display_data"
    }
   ],
   "source": [
    "x2<-rnorm(100)\n",
    "t.test(x2,mu=2,alternative='greater')"
   ]
  },
  {
   "cell_type": "code",
   "execution_count": 4,
   "id": "8cddf1ce-03af-4a01-9503-2cb2ca2f145d",
   "metadata": {},
   "outputs": [
    {
     "data": {
      "text/plain": [
       "\n",
       "\tWilcoxon signed rank test with continuity correction\n",
       "\n",
       "data:  x3\n",
       "V = 2884, p-value = 0.2177\n",
       "alternative hypothesis: true location is not equal to 0\n"
      ]
     },
     "metadata": {},
     "output_type": "display_data"
    }
   ],
   "source": [
    "x3<-rnorm(100)\n",
    "wilcox.test(x3,exact=FALSE)"
   ]
  },
  {
   "cell_type": "code",
   "execution_count": 5,
   "id": "63e8d2e9-e65b-4ede-a572-e5b8335119d4",
   "metadata": {},
   "outputs": [
    {
     "data": {
      "text/plain": [
       "\n",
       "\tPearson's product-moment correlation\n",
       "\n",
       "data:  mtcars$mpg and mtcars$hp\n",
       "t = -6.7424, df = 30, p-value = 1.788e-07\n",
       "alternative hypothesis: true correlation is not equal to 0\n",
       "95 percent confidence interval:\n",
       " -0.8852686 -0.5860994\n",
       "sample estimates:\n",
       "       cor \n",
       "-0.7761684 \n"
      ]
     },
     "metadata": {},
     "output_type": "display_data"
    }
   ],
   "source": [
    "cor.test(mtcars$mpg,mtcars$hp)"
   ]
  },
  {
   "cell_type": "code",
   "execution_count": null,
   "id": "3a84b2dc-21d0-4ac3-aab7-1151a21060b7",
   "metadata": {},
   "outputs": [],
   "source": []
  },
  {
   "cell_type": "code",
   "execution_count": null,
   "id": "6363da70-0099-49c7-8b10-ccfd179917f6",
   "metadata": {},
   "outputs": [],
   "source": []
  }
 ],
 "metadata": {
  "kernelspec": {
   "display_name": "R",
   "language": "R",
   "name": "ir"
  },
  "language_info": {
   "codemirror_mode": "r",
   "file_extension": ".r",
   "mimetype": "text/x-r-source",
   "name": "R",
   "pygments_lexer": "r",
   "version": "4.3.3"
  }
 },
 "nbformat": 4,
 "nbformat_minor": 5
}
